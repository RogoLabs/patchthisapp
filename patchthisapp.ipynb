{
 "cells": [
  {
   "cell_type": "code",
   "execution_count": 1,
   "metadata": {
    "execution": {
     "iopub.execute_input": "2024-01-18T18:01:50.130478Z",
     "iopub.status.busy": "2024-01-18T18:01:50.130314Z",
     "iopub.status.idle": "2024-01-18T18:01:50.986702Z",
     "shell.execute_reply": "2024-01-18T18:01:50.986183Z"
    }
   },
   "outputs": [],
   "source": [
    "from IPython.core.magic import register_cell_magic\n",
    "from IPython.display import Markdown\n",
    "import datetime\n",
    "from datetime import date\n",
    "import glob\n",
    "import json\n",
    "import logging\n",
    "import matplotlib.pyplot as plt\n",
    "import numpy as np\n",
    "import pandas as pd\n",
    "import plotly\n",
    "import warnings\n",
    "import seaborn as sns"
   ]
  },
  {
   "cell_type": "code",
   "execution_count": 2,
   "metadata": {
    "execution": {
     "iopub.execute_input": "2024-01-18T18:01:50.989241Z",
     "iopub.status.busy": "2024-01-18T18:01:50.988861Z",
     "iopub.status.idle": "2024-01-18T18:01:50.998673Z",
     "shell.execute_reply": "2024-01-18T18:01:50.998155Z"
    }
   },
   "outputs": [],
   "source": [
    "columns = ['CVE']\n",
    "metasploit_df = pd.read_csv('metasploit.txt', header=None, names=columns)\n",
    "metasploit_df.drop_duplicates(keep=False,inplace=True)\n",
    "nuclei_df = pd.read_csv('nuclei.txt', header=None, names=columns)\n",
    "nuclei_df.drop_duplicates(keep=False,inplace=True)\n",
    "metasploit_df['Source'] = 'Metasploit'\n",
    "nuclei_df['Source']= 'Nuclei'\n",
    "metasploit_df = metasploit_df[['CVE', 'Source']]\n",
    "nuclei_df = nuclei_df[['CVE', 'Source']]"
   ]
  },
  {
   "cell_type": "code",
   "execution_count": 3,
   "metadata": {
    "execution": {
     "iopub.execute_input": "2024-01-18T18:01:51.000867Z",
     "iopub.status.busy": "2024-01-18T18:01:51.000596Z",
     "iopub.status.idle": "2024-01-18T18:01:51.010724Z",
     "shell.execute_reply": "2024-01-18T18:01:51.010312Z"
    }
   },
   "outputs": [],
   "source": [
    "CISA_df = pd.read_csv('known_exploited_vulnerabilities.csv')\n",
    "CISA_df = CISA_df.rename(columns={\"cveID\": \"CVE\"})\n",
    "CISA_df['Source'] = 'CISA'\n",
    "CISA_df = CISA_df[['CVE', 'Source']]"
   ]
  },
  {
   "cell_type": "code",
   "execution_count": 4,
   "metadata": {
    "execution": {
     "iopub.execute_input": "2024-01-18T18:01:51.012739Z",
     "iopub.status.busy": "2024-01-18T18:01:51.012361Z",
     "iopub.status.idle": "2024-01-18T18:01:51.111906Z",
     "shell.execute_reply": "2024-01-18T18:01:51.111339Z"
    }
   },
   "outputs": [
    {
     "name": "stderr",
     "output_type": "stream",
     "text": [
      "/tmp/ipykernel_3410/298683809.py:5: SettingWithCopyWarning: \n",
      "A value is trying to be set on a copy of a slice from a DataFrame.\n",
      "Try using .loc[row_indexer,col_indexer] = value instead\n",
      "\n",
      "See the caveats in the documentation: https://pandas.pydata.org/pandas-docs/stable/user_guide/indexing.html#returning-a-view-versus-a-copy\n",
      "  epss_df['Source'] = 'EPSS'\n"
     ]
    }
   ],
   "source": [
    "epss_df = pd.read_csv('epss_scores-current.csv', skiprows=1)\n",
    "epss_df = epss_df.rename(columns={\"cve\": \"CVE\"})\n",
    "epss_df_all = epss_df\n",
    "epss_df = epss_df[epss_df.epss > .95]\n",
    "epss_df['Source'] = 'EPSS'\n",
    "epss_df = epss_df[['CVE', 'Source']]"
   ]
  },
  {
   "cell_type": "code",
   "execution_count": 5,
   "metadata": {
    "execution": {
     "iopub.execute_input": "2024-01-18T18:01:51.144175Z",
     "iopub.status.busy": "2024-01-18T18:01:51.143831Z",
     "iopub.status.idle": "2024-01-18T18:01:51.217340Z",
     "shell.execute_reply": "2024-01-18T18:01:51.216852Z"
    }
   },
   "outputs": [],
   "source": [
    "CVE_list = pd.concat([epss_df, CISA_df, metasploit_df, nuclei_df], ignore_index=True, sort=False)\n",
    "CVE_list = CVE_list.groupby('CVE', as_index=False).agg({'CVE' : 'first', 'Source' : '/'.join})\n"
   ]
  },
  {
   "cell_type": "code",
   "execution_count": 6,
   "metadata": {
    "execution": {
     "iopub.execute_input": "2024-01-18T18:01:51.219919Z",
     "iopub.status.busy": "2024-01-18T18:01:51.219516Z",
     "iopub.status.idle": "2024-01-18T18:02:08.590014Z",
     "shell.execute_reply": "2024-01-18T18:02:08.589450Z"
    }
   },
   "outputs": [],
   "source": [
    "row_accumulator = []\n",
    "for filename in glob.glob('nvd.jsonl'):\n",
    "    with open(filename, 'r', encoding='utf-8') as f:\n",
    "        nvd_data = json.load(f)\n",
    "        for entry in nvd_data:\n",
    "            cve = entry['cve']['id']\n",
    "            try:\n",
    "                assigner = entry['cve']['sourceIdentifier']\n",
    "            except KeyError:\n",
    "                assigner = 'Missing_Data'\n",
    "            try:\n",
    "                published_date = entry['cve']['published']\n",
    "            except KeyError:\n",
    "                published_date = 'Missing_Data'\n",
    "            try:\n",
    "                attack_vector = entry['cve']['metrics']['cvssMetricV31'][0]['cvssData']['attackVector']\n",
    "            except KeyError:\n",
    "                attack_vector = 'Missing_Data'\n",
    "            try:\n",
    "                attack_complexity = entry['cve']['metrics']['cvssMetricV31'][0]['cvssData']['attackComplexity']\n",
    "            except KeyError:\n",
    "                attack_complexity = 'Missing_Data'\n",
    "            try:\n",
    "                privileges_required = entry['cve']['metrics']['cvssMetricV31'][0]['cvssData']['privilegesRequired']\n",
    "            except KeyError:\n",
    "                privileges_required = 'Missing_Data'\n",
    "            try:\n",
    "                user_interaction = entry['cve']['metrics']['cvssMetricV31'][0]['cvssData']['userInteraction']\n",
    "            except KeyError:\n",
    "                user_interaction = 'Missing_Data'\n",
    "            try:\n",
    "                scope = entry['cve']['metrics']['cvssMetricV31'][0]['cvssData']['scope']\n",
    "            except KeyError:\n",
    "                scope = 'Missing_Data'\n",
    "            try:\n",
    "                confidentiality_impact = entry['cve']['metrics']['cvssMetricV31'][0]['cvssData']['confidentialityImpact']\n",
    "            except KeyError:\n",
    "                confidentiality_impact = 'Missing_Data'\n",
    "            try:\n",
    "                integrity_impact = entry['cve']['metrics']['cvssMetricV31'][0]['cvssData']['integrityImpact']\n",
    "            except KeyError:\n",
    "                integrity_impact = 'Missing_Data'\n",
    "            try:\n",
    "                availability_impact = entry['cve']['metrics']['cvssMetricV31'][0]['cvssData']['availabilityImpact']\n",
    "            except KeyError:\n",
    "                availability_impact = 'Missing_Data'\n",
    "            try:\n",
    "                base_score = entry['cve']['metrics']['cvssMetricV31'][0]['cvssData']['baseScore']\n",
    "            except KeyError:\n",
    "                base_score = '0.0'\n",
    "            try:\n",
    "                base_severity = entry['cve']['metrics']['cvssMetricV31'][0]['cvssData']['baseSeverity']\n",
    "            except KeyError:\n",
    "                base_severity = 'Missing_Data'\n",
    "            try:\n",
    "                exploitability_score = entry['cve']['metrics']['cvssMetricV31'][0]['exploitabilityScore']\n",
    "            except KeyError:\n",
    "                exploitability_score = 'Missing_Data'\n",
    "            try:\n",
    "                impact_score = entry['cve']['metrics']['cvssMetricV31'][0]['impactScore']\n",
    "            except KeyError:\n",
    "                impact_score = 'Missing_Data'\n",
    "            try:\n",
    "                cwe = entry['cve']['weaknesses'][0]['description'][0]['value']\n",
    "            except KeyError:\n",
    "                cwe = 'Missing_Data'\n",
    "            try:\n",
    "                description = entry['cve']['descriptions'][0]['value']\n",
    "            except IndexError:\n",
    "                description = ''\n",
    "            new_row = {\n",
    "                'CVE': cve,\n",
    "                'Published': published_date,\n",
    "                'CVSS Score': base_score,\n",
    "                'Description': description\n",
    "            }\n",
    "            if not description.startswith('** REJECT **'): # disputed, rejected and other non issues start with '**'\n",
    "                row_accumulator.append(new_row)\n",
    "        nvd = pd.DataFrame(row_accumulator)\n",
    "        \n",
    "nvd['Published'] = pd.to_datetime(nvd['Published'])\n",
    "nvd = nvd.sort_values(by=['Published'])\n",
    "nvd = nvd.reset_index(drop=True)"
   ]
  },
  {
   "cell_type": "code",
   "execution_count": 7,
   "metadata": {
    "execution": {
     "iopub.execute_input": "2024-01-18T18:02:08.592606Z",
     "iopub.status.busy": "2024-01-18T18:02:08.592402Z",
     "iopub.status.idle": "2024-01-18T18:02:08.758402Z",
     "shell.execute_reply": "2024-01-18T18:02:08.757826Z"
    }
   },
   "outputs": [],
   "source": [
    "patchthisapp_df = pd.merge(CVE_list, nvd, how='inner', left_on='CVE', right_on='CVE')\n",
    "patchthisapp_df = pd.merge(patchthisapp_df, epss_df_all, how='inner', left_on='CVE', right_on='CVE')\n",
    "patchthisapp_df = patchthisapp_df[['CVE', 'CVSS Score', 'epss', 'Description', 'Published', 'Source']]\n",
    "patchthisapp_df = patchthisapp_df.rename(columns={\"epss\": \"EPSS\"})\n",
    "patchthisapp_df.to_csv('data/data.csv', index=False)"
   ]
  }
 ],
 "metadata": {
  "kernelspec": {
   "display_name": "Python 3",
   "language": "python",
   "name": "python3"
  },
  "language_info": {
   "codemirror_mode": {
    "name": "ipython",
    "version": 3
   },
   "file_extension": ".py",
   "mimetype": "text/x-python",
   "name": "python",
   "nbconvert_exporter": "python",
   "pygments_lexer": "ipython3",
   "version": "3.11.7"
  }
 },
 "nbformat": 4,
 "nbformat_minor": 2
}
