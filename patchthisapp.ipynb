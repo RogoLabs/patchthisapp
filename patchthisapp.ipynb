{
 "cells": [
  {
   "cell_type": "code",
   "execution_count": 1,
   "metadata": {
    "execution": {
     "iopub.execute_input": "2023-09-01T06:02:32.703657Z",
     "iopub.status.busy": "2023-09-01T06:02:32.703284Z",
     "iopub.status.idle": "2023-09-01T06:02:33.840593Z",
     "shell.execute_reply": "2023-09-01T06:02:33.839772Z"
    }
   },
   "outputs": [],
   "source": [
    "from IPython.core.magic import register_cell_magic\n",
    "from IPython.display import Markdown\n",
    "import datetime\n",
    "from datetime import date\n",
    "import glob\n",
    "import json\n",
    "import logging\n",
    "import matplotlib.pyplot as plt\n",
    "import numpy as np\n",
    "import pandas as pd\n",
    "import plotly\n",
    "import warnings\n",
    "import seaborn as sns"
   ]
  },
  {
   "cell_type": "code",
   "execution_count": 2,
   "metadata": {
    "execution": {
     "iopub.execute_input": "2023-09-01T06:02:33.844883Z",
     "iopub.status.busy": "2023-09-01T06:02:33.844337Z",
     "iopub.status.idle": "2023-09-01T06:02:33.855957Z",
     "shell.execute_reply": "2023-09-01T06:02:33.854867Z"
    }
   },
   "outputs": [],
   "source": [
    "columns = ['CVE']\n",
    "metasploit_df = pd.read_csv('metasploit.txt', header=None, names=columns)\n",
    "nuclei_df = pd.read_csv('nuclei.txt', header=None, names=columns)\n"
   ]
  },
  {
   "cell_type": "code",
   "execution_count": 3,
   "metadata": {
    "execution": {
     "iopub.execute_input": "2023-09-01T06:02:33.860197Z",
     "iopub.status.busy": "2023-09-01T06:02:33.859476Z",
     "iopub.status.idle": "2023-09-01T06:02:33.874321Z",
     "shell.execute_reply": "2023-09-01T06:02:33.873679Z"
    }
   },
   "outputs": [],
   "source": [
    "CISA_df = pd.read_csv('known_exploited_vulnerabilities.csv')\n",
    "CISA_df = CISA_df.rename(columns={\"cveID\": \"CVE\"})"
   ]
  },
  {
   "cell_type": "code",
   "execution_count": 4,
   "metadata": {
    "execution": {
     "iopub.execute_input": "2023-09-01T06:02:33.877547Z",
     "iopub.status.busy": "2023-09-01T06:02:33.877137Z",
     "iopub.status.idle": "2023-09-01T06:02:34.047693Z",
     "shell.execute_reply": "2023-09-01T06:02:34.046937Z"
    }
   },
   "outputs": [],
   "source": [
    "epss_df = pd.read_csv('epss_scores-current.csv', skiprows=1)\n",
    "epss_df = epss_df.rename(columns={\"cve\": \"CVE\"})\n",
    "epss_df = epss_df[epss_df.epss > .95]"
   ]
  },
  {
   "cell_type": "code",
   "execution_count": 5,
   "metadata": {
    "execution": {
     "iopub.execute_input": "2023-09-01T06:02:34.051181Z",
     "iopub.status.busy": "2023-09-01T06:02:34.050783Z",
     "iopub.status.idle": "2023-09-01T06:02:34.055039Z",
     "shell.execute_reply": "2023-09-01T06:02:34.054368Z"
    }
   },
   "outputs": [],
   "source": [
    "epss_cves = epss_df['CVE']\n",
    "metasploit_cves = metasploit_df['CVE']\n",
    "nuclei_cves = nuclei_df['CVE']\n",
    "CISA_cves = CISA_df['CVE']"
   ]
  },
  {
   "cell_type": "code",
   "execution_count": 6,
   "metadata": {
    "execution": {
     "iopub.execute_input": "2023-09-01T06:02:34.058763Z",
     "iopub.status.busy": "2023-09-01T06:02:34.058064Z",
     "iopub.status.idle": "2023-09-01T06:02:34.078175Z",
     "shell.execute_reply": "2023-09-01T06:02:34.077526Z"
    }
   },
   "outputs": [],
   "source": [
    "CVE_list = pd.merge(CISA_cves, metasploit_cves, how='outer', left_on='CVE', right_on='CVE')\n",
    "CVE_list = pd.merge(CVE_list, nuclei_cves, how='outer', left_on='CVE', right_on='CVE')\n",
    "CVE_list = pd.merge(CVE_list, epss_cves, how='outer', left_on='CVE', right_on='CVE')\n",
    "CVE_list = CVE_list.drop_duplicates()\n"
   ]
  },
  {
   "cell_type": "code",
   "execution_count": 7,
   "metadata": {
    "execution": {
     "iopub.execute_input": "2023-09-01T06:02:34.081680Z",
     "iopub.status.busy": "2023-09-01T06:02:34.081267Z",
     "iopub.status.idle": "2023-09-01T06:03:00.438971Z",
     "shell.execute_reply": "2023-09-01T06:03:00.438244Z"
    }
   },
   "outputs": [],
   "source": [
    "row_accumulator = []\n",
    "for filename in glob.glob('nvd.jsonl'):\n",
    "    with open(filename, 'r', encoding='utf-8') as f:\n",
    "        nvd_data = json.load(f)\n",
    "        for entry in nvd_data:\n",
    "            cve = entry['cve']['id']\n",
    "            try:\n",
    "                assigner = entry['cve']['sourceIdentifier']\n",
    "            except KeyError:\n",
    "                assigner = 'Missing_Data'\n",
    "            try:\n",
    "                published_date = entry['cve']['published']\n",
    "            except KeyError:\n",
    "                published_date = 'Missing_Data'\n",
    "            try:\n",
    "                attack_vector = entry['cve']['metrics']['cvssMetricV31'][0]['cvssData']['attackVector']\n",
    "            except KeyError:\n",
    "                attack_vector = 'Missing_Data'\n",
    "            try:\n",
    "                attack_complexity = entry['cve']['metrics']['cvssMetricV31'][0]['cvssData']['attackComplexity']\n",
    "            except KeyError:\n",
    "                attack_complexity = 'Missing_Data'\n",
    "            try:\n",
    "                privileges_required = entry['cve']['metrics']['cvssMetricV31'][0]['cvssData']['privilegesRequired']\n",
    "            except KeyError:\n",
    "                privileges_required = 'Missing_Data'\n",
    "            try:\n",
    "                user_interaction = entry['cve']['metrics']['cvssMetricV31'][0]['cvssData']['userInteraction']\n",
    "            except KeyError:\n",
    "                user_interaction = 'Missing_Data'\n",
    "            try:\n",
    "                scope = entry['cve']['metrics']['cvssMetricV31'][0]['cvssData']['scope']\n",
    "            except KeyError:\n",
    "                scope = 'Missing_Data'\n",
    "            try:\n",
    "                confidentiality_impact = entry['cve']['metrics']['cvssMetricV31'][0]['cvssData']['confidentialityImpact']\n",
    "            except KeyError:\n",
    "                confidentiality_impact = 'Missing_Data'\n",
    "            try:\n",
    "                integrity_impact = entry['cve']['metrics']['cvssMetricV31'][0]['cvssData']['integrityImpact']\n",
    "            except KeyError:\n",
    "                integrity_impact = 'Missing_Data'\n",
    "            try:\n",
    "                availability_impact = entry['cve']['metrics']['cvssMetricV31'][0]['cvssData']['availabilityImpact']\n",
    "            except KeyError:\n",
    "                availability_impact = 'Missing_Data'\n",
    "            try:\n",
    "                base_score = entry['cve']['metrics']['cvssMetricV31'][0]['cvssData']['baseScore']\n",
    "            except KeyError:\n",
    "                base_score = '0.0'\n",
    "            try:\n",
    "                base_severity = entry['cve']['metrics']['cvssMetricV31'][0]['cvssData']['baseSeverity']\n",
    "            except KeyError:\n",
    "                base_severity = 'Missing_Data'\n",
    "            try:\n",
    "                exploitability_score = entry['cve']['metrics']['cvssMetricV31'][0]['exploitabilityScore']\n",
    "            except KeyError:\n",
    "                exploitability_score = 'Missing_Data'\n",
    "            try:\n",
    "                impact_score = entry['cve']['metrics']['cvssMetricV31'][0]['impactScore']\n",
    "            except KeyError:\n",
    "                impact_score = 'Missing_Data'\n",
    "            try:\n",
    "                cwe = entry['cve']['weaknesses'][0]['description'][0]['value']\n",
    "            except KeyError:\n",
    "                cwe = 'Missing_Data'\n",
    "            try:\n",
    "                description = entry['cve']['descriptions'][0]['value']\n",
    "            except IndexError:\n",
    "                description = ''\n",
    "            new_row = {\n",
    "                'CVE': cve,\n",
    "                'Published': published_date,\n",
    "                'CVSS Score': base_score,\n",
    "                'Description': description\n",
    "            }\n",
    "            if not description.startswith('** REJECT **'): # disputed, rejected and other non issues start with '**'\n",
    "                row_accumulator.append(new_row)\n",
    "        nvd = pd.DataFrame(row_accumulator)\n",
    "        \n",
    "nvd['Published'] = pd.to_datetime(nvd['Published'])\n",
    "nvd = nvd.sort_values(by=['Published'])\n",
    "nvd = nvd.reset_index(drop=True)"
   ]
  },
  {
   "cell_type": "code",
   "execution_count": 8,
   "metadata": {
    "execution": {
     "iopub.execute_input": "2023-09-01T06:03:00.442530Z",
     "iopub.status.busy": "2023-09-01T06:03:00.442176Z",
     "iopub.status.idle": "2023-09-01T06:03:00.615440Z",
     "shell.execute_reply": "2023-09-01T06:03:00.614490Z"
    }
   },
   "outputs": [],
   "source": [
    "patchthisapp_df = pd.merge(CVE_list, nvd, how='inner', left_on='CVE', right_on='CVE')\n",
    "patchthisapp_df = pd.merge(patchthisapp_df, epss_df, how='inner', left_on='CVE', right_on='CVE')\n",
    "patchthisapp_df = patchthisapp_df[['CVE', 'CVSS Score', 'epss', 'Description', 'Published']]\n",
    "patchthisapp_df = patchthisapp_df.rename(columns={\"epss\": \"EPSS\"})\n",
    "patchthisapp_df.to_csv('data/data.csv', index=False)"
   ]
  }
 ],
 "metadata": {
  "kernelspec": {
   "display_name": "Python 3",
   "language": "python",
   "name": "python3"
  },
  "language_info": {
   "codemirror_mode": {
    "name": "ipython",
    "version": 3
   },
   "file_extension": ".py",
   "mimetype": "text/x-python",
   "name": "python",
   "nbconvert_exporter": "python",
   "pygments_lexer": "ipython3",
   "version": "3.11.4"
  }
 },
 "nbformat": 4,
 "nbformat_minor": 2
}
