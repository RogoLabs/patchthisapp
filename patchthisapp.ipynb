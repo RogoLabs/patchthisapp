{
 "cells": [
  {
   "cell_type": "code",
   "execution_count": 1,
   "metadata": {
    "execution": {
     "iopub.execute_input": "2025-05-07T18:01:25.860677Z",
     "iopub.status.busy": "2025-05-07T18:01:25.860489Z",
     "iopub.status.idle": "2025-05-07T18:01:26.771022Z",
     "shell.execute_reply": "2025-05-07T18:01:26.770460Z"
    }
   },
   "outputs": [],
   "source": [
    "from IPython.core.magic import register_cell_magic\n",
    "from IPython.display import Markdown\n",
    "from datetime import date\n",
    "import glob\n",
    "import json\n",
    "import logging\n",
    "import matplotlib.pyplot as plt\n",
    "import numpy as np\n",
    "import pandas as pd\n",
    "import seaborn as sns\n"
   ]
  },
  {
   "cell_type": "code",
   "execution_count": 2,
   "metadata": {
    "execution": {
     "iopub.execute_input": "2025-05-07T18:01:26.773188Z",
     "iopub.status.busy": "2025-05-07T18:01:26.772921Z",
     "iopub.status.idle": "2025-05-07T18:01:26.784390Z",
     "shell.execute_reply": "2025-05-07T18:01:26.783907Z"
    }
   },
   "outputs": [],
   "source": [
    "columns = ['CVE']\n",
    "metasploit_df = pd.read_csv('metasploit.txt', header=None, names=columns)\n",
    "metasploit_df.drop_duplicates(keep='first',inplace=True)\n",
    "nuclei_df = pd.read_csv('nuclei.txt', header=None, names=columns)\n",
    "nuclei_df.drop_duplicates(keep='first',inplace=True)\n",
    "metasploit_df['Source'] = 'Metasploit'\n",
    "nuclei_df['Source']= 'Nuclei'\n",
    "metasploit_df = metasploit_df[['CVE', 'Source']]\n",
    "nuclei_df = nuclei_df[['CVE', 'Source']]"
   ]
  },
  {
   "cell_type": "code",
   "execution_count": 3,
   "metadata": {
    "execution": {
     "iopub.execute_input": "2025-05-07T18:01:26.786420Z",
     "iopub.status.busy": "2025-05-07T18:01:26.786230Z",
     "iopub.status.idle": "2025-05-07T18:01:26.800842Z",
     "shell.execute_reply": "2025-05-07T18:01:26.800338Z"
    }
   },
   "outputs": [],
   "source": [
    "CISA_df = pd.read_csv('known_exploited_vulnerabilities.csv')\n",
    "CISA_df = CISA_df.rename(columns={\"cveID\": \"CVE\"})\n",
    "CISA_df['Source'] = 'CISA'\n",
    "CISA_df = CISA_df[['CVE', 'Source']]"
   ]
  },
  {
   "cell_type": "code",
   "execution_count": 4,
   "metadata": {
    "execution": {
     "iopub.execute_input": "2025-05-07T18:01:26.803100Z",
     "iopub.status.busy": "2025-05-07T18:01:26.802744Z",
     "iopub.status.idle": "2025-05-07T18:01:26.934618Z",
     "shell.execute_reply": "2025-05-07T18:01:26.934107Z"
    }
   },
   "outputs": [],
   "source": [
    "epss_df = pd.read_csv('epss_scores-current.csv', skiprows=1)\n",
    "epss_df = epss_df.rename(columns={\"cve\": \"CVE\"})\n",
    "epss_df_all = epss_df\n",
    "epss_df = epss_df[epss_df.epss > .95].copy()  # Use .copy() to avoid SettingWithCopyWarning\n",
    "epss_df['Source'] = 'EPSS'  # Use .loc to avoid SettingWithCopyWarning\n",
    "epss_df = epss_df[['CVE', 'Source']]"
   ]
  },
  {
   "cell_type": "code",
   "execution_count": 5,
   "metadata": {
    "execution": {
     "iopub.execute_input": "2025-05-07T18:01:26.936828Z",
     "iopub.status.busy": "2025-05-07T18:01:26.936452Z",
     "iopub.status.idle": "2025-05-07T18:01:27.022122Z",
     "shell.execute_reply": "2025-05-07T18:01:27.021622Z"
    }
   },
   "outputs": [],
   "source": [
    "CVE_list = pd.concat([metasploit_df, nuclei_df, epss_df, CISA_df,], ignore_index=True, sort=False)\n",
    "CVE_list = CVE_list.groupby('CVE', as_index=False).agg({'CVE' : 'first', 'Source' : '/'.join})"
   ]
  },
  {
   "cell_type": "code",
   "execution_count": 6,
   "metadata": {
    "execution": {
     "iopub.execute_input": "2025-05-07T18:01:27.024334Z",
     "iopub.status.busy": "2025-05-07T18:01:27.023988Z",
     "iopub.status.idle": "2025-05-07T18:01:51.966586Z",
     "shell.execute_reply": "2025-05-07T18:01:51.966067Z"
    }
   },
   "outputs": [],
   "source": [
    "# Configure logging\n",
    "logging.basicConfig(level=logging.INFO, format='%(asctime)s - %(levelname)s - %(message)s')\n",
    "\n",
    "def load_nvd_data(filename):\n",
    "    try:\n",
    "        with open(filename, 'r', encoding='utf-8') as f:\n",
    "            return json.load(f)\n",
    "    except json.JSONDecodeError as e:\n",
    "        logging.error(f\"Error decoding JSON from file {filename}: {e}\")\n",
    "        return []\n",
    "\n",
    "def extract_entry_data(entry):\n",
    "    fields = {\n",
    "        'assigner': 'Missing_Data',\n",
    "        'published_date': 'Missing_Data',\n",
    "        'attack_vector': 'Missing_Data',\n",
    "        'attack_complexity': 'Missing_Data',\n",
    "        'privileges_required': 'Missing_Data',\n",
    "        'user_interaction': 'Missing_Data',\n",
    "        'scope': 'Missing_Data',\n",
    "        'confidentiality_impact': 'Missing_Data',\n",
    "        'integrity_impact': 'Missing_Data',\n",
    "        'availability_impact': 'Missing_Data',\n",
    "        'base_score': '0.0',\n",
    "        'base_severity': 'Missing_Data',\n",
    "        'exploitability_score': 'Missing_Data',\n",
    "        'impact_score': 'Missing_Data',\n",
    "        'cwe': 'Missing_Data',\n",
    "        'description': ''\n",
    "    }\n",
    "\n",
    "    fields['cve'] = entry['cve']['id']\n",
    "    fields['assigner'] = entry['cve'].get('sourceIdentifier', fields['assigner'])\n",
    "    fields['published_date'] = entry['cve'].get('published', fields['published_date'])\n",
    "\n",
    "    metrics = entry['cve'].get('metrics', {}).get('cvssMetricV31', [{}])[0].get('cvssData', {})\n",
    "    fields.update({\n",
    "        'attack_vector': metrics.get('attackVector', fields['attack_vector']),\n",
    "        'attack_complexity': metrics.get('attackComplexity', fields['attack_complexity']),\n",
    "        'privileges_required': metrics.get('privilegesRequired', fields['privileges_required']),\n",
    "        'user_interaction': metrics.get('userInteraction', fields['user_interaction']),\n",
    "        'scope': metrics.get('scope', fields['scope']),\n",
    "        'confidentiality_impact': metrics.get('confidentialityImpact', fields['confidentiality_impact']),\n",
    "        'integrity_impact': metrics.get('integrityImpact', fields['integrity_impact']),\n",
    "        'availability_impact': metrics.get('availabilityImpact', fields['availability_impact']),\n",
    "        'base_score': metrics.get('baseScore', fields['base_score']),\n",
    "        'base_severity': metrics.get('baseSeverity', fields['base_severity']),\n",
    "        'exploitability_score': metrics.get('exploitabilityScore', fields['exploitability_score']),\n",
    "        'impact_score': metrics.get('impactScore', fields['impact_score']),\n",
    "    })\n",
    "\n",
    "    weaknesses = entry['cve'].get('weaknesses', [{}])[0].get('description', [{}])\n",
    "    if weaknesses:\n",
    "        fields['cwe'] = weaknesses[0].get('value', fields['cwe'])\n",
    "\n",
    "    descriptions = entry['cve'].get('descriptions', [{}])\n",
    "    if descriptions:\n",
    "        fields['description'] = descriptions[0].get('value', fields['description'])\n",
    "\n",
    "    return fields\n",
    "\n",
    "def process_nvd_files():\n",
    "    row_accumulator = []\n",
    "    for filename in glob.glob('nvd.jsonl'):\n",
    "        nvd_data = load_nvd_data(filename)\n",
    "        for entry in nvd_data:\n",
    "            entry_data = extract_entry_data(entry)\n",
    "            if not entry_data['description'].startswith('** REJECT **'):\n",
    "                row_accumulator.append(entry_data)\n",
    "\n",
    "    nvd = pd.DataFrame(row_accumulator)\n",
    "    nvd = nvd.rename(columns={'published_date': 'Published'})  # Rename the column to 'Published'\n",
    "    nvd['Published'] = pd.to_datetime(nvd['Published'], errors='coerce')  # Convert to datetime, handle errors\n",
    "    nvd = nvd.sort_values(by=['Published'])\n",
    "    nvd = nvd.reset_index(drop=True)\n",
    "    return nvd\n",
    "\n",
    "# Process the NVD files and get the DataFrame\n",
    "nvd = process_nvd_files()\n",
    "nvd = nvd.rename(columns={'cve': 'CVE', 'description' : 'Description', 'base_score' : 'CVSS Score'})"
   ]
  },
  {
   "cell_type": "code",
   "execution_count": 7,
   "metadata": {
    "execution": {
     "iopub.execute_input": "2025-05-07T18:01:51.969512Z",
     "iopub.status.busy": "2025-05-07T18:01:51.969275Z",
     "iopub.status.idle": "2025-05-07T18:01:52.284636Z",
     "shell.execute_reply": "2025-05-07T18:01:52.284009Z"
    }
   },
   "outputs": [],
   "source": [
    "patchthisapp_df = pd.merge(CVE_list, nvd, how='inner', left_on='CVE', right_on='CVE')\n",
    "patchthisapp_df = pd.merge(patchthisapp_df, epss_df_all, how='inner', left_on='CVE', right_on='CVE')\n",
    "patchthisapp_df = patchthisapp_df[['CVE', 'CVSS Score', 'epss', 'Description', 'Published', 'Source']]\n",
    "patchthisapp_df = patchthisapp_df.rename(columns={\"epss\": \"EPSS\"})\n",
    "patchthisapp_df.to_csv('data/data.csv', index=False)"
   ]
  }
 ],
 "metadata": {
  "kernelspec": {
   "display_name": "Python 3",
   "language": "python",
   "name": "python3"
  },
  "language_info": {
   "codemirror_mode": {
    "name": "ipython",
    "version": 3
   },
   "file_extension": ".py",
   "mimetype": "text/x-python",
   "name": "python",
   "nbconvert_exporter": "python",
   "pygments_lexer": "ipython3",
   "version": "3.13.3"
  }
 },
 "nbformat": 4,
 "nbformat_minor": 2
}
