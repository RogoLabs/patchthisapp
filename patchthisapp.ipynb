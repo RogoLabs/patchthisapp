{
 "cells": [
  {
   "cell_type": "code",
   "execution_count": 1,
   "metadata": {
    "execution": {
     "iopub.execute_input": "2023-08-13T10:06:34.220103Z",
     "iopub.status.busy": "2023-08-13T10:06:34.219858Z",
     "iopub.status.idle": "2023-08-13T10:06:35.631209Z",
     "shell.execute_reply": "2023-08-13T10:06:35.630503Z"
    }
   },
   "outputs": [],
   "source": [
    "from IPython.core.magic import register_cell_magic\n",
    "from IPython.display import Markdown\n",
    "import datetime\n",
    "from datetime import date\n",
    "import glob\n",
    "import json\n",
    "import logging\n",
    "import matplotlib.pyplot as plt\n",
    "import numpy as np\n",
    "import pandas as pd\n",
    "import plotly\n",
    "import warnings\n",
    "import seaborn as sns"
   ]
  },
  {
   "cell_type": "code",
   "execution_count": 2,
   "metadata": {
    "execution": {
     "iopub.execute_input": "2023-08-13T10:06:35.635066Z",
     "iopub.status.busy": "2023-08-13T10:06:35.634587Z",
     "iopub.status.idle": "2023-08-13T10:06:35.641711Z",
     "shell.execute_reply": "2023-08-13T10:06:35.641042Z"
    }
   },
   "outputs": [],
   "source": [
    "columns = ['CVE']\n",
    "metasploit_df = pd.read_csv('metasploit.txt', header=None, names=columns)"
   ]
  },
  {
   "cell_type": "code",
   "execution_count": 3,
   "metadata": {
    "execution": {
     "iopub.execute_input": "2023-08-13T10:06:35.645065Z",
     "iopub.status.busy": "2023-08-13T10:06:35.644647Z",
     "iopub.status.idle": "2023-08-13T10:06:35.659069Z",
     "shell.execute_reply": "2023-08-13T10:06:35.658407Z"
    }
   },
   "outputs": [],
   "source": [
    "CISA_df = pd.read_csv('known_exploited_vulnerabilities.csv')\n",
    "CISA_df = CISA_df.rename(columns={\"cveID\": \"CVE\"})"
   ]
  },
  {
   "cell_type": "code",
   "execution_count": 4,
   "metadata": {
    "execution": {
     "iopub.execute_input": "2023-08-13T10:06:35.662522Z",
     "iopub.status.busy": "2023-08-13T10:06:35.662128Z",
     "iopub.status.idle": "2023-08-13T10:06:35.842150Z",
     "shell.execute_reply": "2023-08-13T10:06:35.841243Z"
    }
   },
   "outputs": [],
   "source": [
    "epss_df = pd.read_csv('epss_scores-current.csv', skiprows=1)\n",
    "epss_df = epss_df.rename(columns={\"cve\": \"CVE\"})\n",
    "epss_df = epss_df[epss_df.epss > .90]"
   ]
  },
  {
   "cell_type": "code",
   "execution_count": 5,
   "metadata": {
    "execution": {
     "iopub.execute_input": "2023-08-13T10:06:35.846950Z",
     "iopub.status.busy": "2023-08-13T10:06:35.846491Z",
     "iopub.status.idle": "2023-08-13T10:06:35.850728Z",
     "shell.execute_reply": "2023-08-13T10:06:35.849885Z"
    }
   },
   "outputs": [],
   "source": [
    "epss_cves = epss_df['CVE']\n",
    "metasploit_cves = metasploit_df['CVE']\n",
    "CISA_cves = CISA_df['CVE']"
   ]
  },
  {
   "cell_type": "code",
   "execution_count": 6,
   "metadata": {
    "execution": {
     "iopub.execute_input": "2023-08-13T10:06:35.853565Z",
     "iopub.status.busy": "2023-08-13T10:06:35.853145Z",
     "iopub.status.idle": "2023-08-13T10:06:35.866863Z",
     "shell.execute_reply": "2023-08-13T10:06:35.866282Z"
    }
   },
   "outputs": [],
   "source": [
    "CVE_list = pd.merge(CISA_cves, metasploit_cves, how='outer', left_on='CVE', right_on='CVE')\n",
    "CVE_list = pd.merge(CVE_list, epss_cves, how='outer', left_on='CVE', right_on='CVE')\n",
    "CVE_list = CVE_list.drop_duplicates()\n"
   ]
  },
  {
   "cell_type": "code",
   "execution_count": 7,
   "metadata": {
    "execution": {
     "iopub.execute_input": "2023-08-13T10:06:35.869798Z",
     "iopub.status.busy": "2023-08-13T10:06:35.869578Z",
     "iopub.status.idle": "2023-08-13T10:07:02.018957Z",
     "shell.execute_reply": "2023-08-13T10:07:02.018246Z"
    }
   },
   "outputs": [],
   "source": [
    "row_accumulator = []\n",
    "for filename in glob.glob('nvd.jsonl'):\n",
    "    with open(filename, 'r', encoding='utf-8') as f:\n",
    "        nvd_data = json.load(f)\n",
    "        for entry in nvd_data:\n",
    "            cve = entry['cve']['id']\n",
    "            try:\n",
    "                assigner = entry['cve']['sourceIdentifier']\n",
    "            except KeyError:\n",
    "                assigner = 'Missing_Data'\n",
    "            try:\n",
    "                published_date = entry['cve']['published']\n",
    "            except KeyError:\n",
    "                published_date = 'Missing_Data'\n",
    "            try:\n",
    "                attack_vector = entry['cve']['metrics']['cvssMetricV31'][0]['cvssData']['attackVector']\n",
    "            except KeyError:\n",
    "                attack_vector = 'Missing_Data'\n",
    "            try:\n",
    "                attack_complexity = entry['cve']['metrics']['cvssMetricV31'][0]['cvssData']['attackComplexity']\n",
    "            except KeyError:\n",
    "                attack_complexity = 'Missing_Data'\n",
    "            try:\n",
    "                privileges_required = entry['cve']['metrics']['cvssMetricV31'][0]['cvssData']['privilegesRequired']\n",
    "            except KeyError:\n",
    "                privileges_required = 'Missing_Data'\n",
    "            try:\n",
    "                user_interaction = entry['cve']['metrics']['cvssMetricV31'][0]['cvssData']['userInteraction']\n",
    "            except KeyError:\n",
    "                user_interaction = 'Missing_Data'\n",
    "            try:\n",
    "                scope = entry['cve']['metrics']['cvssMetricV31'][0]['cvssData']['scope']\n",
    "            except KeyError:\n",
    "                scope = 'Missing_Data'\n",
    "            try:\n",
    "                confidentiality_impact = entry['cve']['metrics']['cvssMetricV31'][0]['cvssData']['confidentialityImpact']\n",
    "            except KeyError:\n",
    "                confidentiality_impact = 'Missing_Data'\n",
    "            try:\n",
    "                integrity_impact = entry['cve']['metrics']['cvssMetricV31'][0]['cvssData']['integrityImpact']\n",
    "            except KeyError:\n",
    "                integrity_impact = 'Missing_Data'\n",
    "            try:\n",
    "                availability_impact = entry['cve']['metrics']['cvssMetricV31'][0]['cvssData']['availabilityImpact']\n",
    "            except KeyError:\n",
    "                availability_impact = 'Missing_Data'\n",
    "            try:\n",
    "                base_score = entry['cve']['metrics']['cvssMetricV31'][0]['cvssData']['baseScore']\n",
    "            except KeyError:\n",
    "                base_score = '0.0'\n",
    "            try:\n",
    "                base_severity = entry['cve']['metrics']['cvssMetricV31'][0]['cvssData']['baseSeverity']\n",
    "            except KeyError:\n",
    "                base_severity = 'Missing_Data'\n",
    "            try:\n",
    "                exploitability_score = entry['cve']['metrics']['cvssMetricV31'][0]['exploitabilityScore']\n",
    "            except KeyError:\n",
    "                exploitability_score = 'Missing_Data'\n",
    "            try:\n",
    "                impact_score = entry['cve']['metrics']['cvssMetricV31'][0]['impactScore']\n",
    "            except KeyError:\n",
    "                impact_score = 'Missing_Data'\n",
    "            try:\n",
    "                cwe = entry['cve']['weaknesses'][0]['description'][0]['value']\n",
    "            except KeyError:\n",
    "                cwe = 'Missing_Data'\n",
    "            try:\n",
    "                description = entry['cve']['descriptions'][0]['value']\n",
    "            except IndexError:\n",
    "                description = ''\n",
    "            new_row = {\n",
    "                'CVE': cve,\n",
    "                'Published': published_date,\n",
    "                'CVSS Score': base_score,\n",
    "                'Description': description\n",
    "            }\n",
    "            if not description.startswith('** REJECT **'): # disputed, rejected and other non issues start with '**'\n",
    "                row_accumulator.append(new_row)\n",
    "        nvd = pd.DataFrame(row_accumulator)\n",
    "        \n",
    "nvd['Published'] = pd.to_datetime(nvd['Published'])\n",
    "nvd = nvd.sort_values(by=['Published'])\n",
    "nvd = nvd.reset_index(drop=True)"
   ]
  },
  {
   "cell_type": "code",
   "execution_count": 8,
   "metadata": {
    "execution": {
     "iopub.execute_input": "2023-08-13T10:07:02.022946Z",
     "iopub.status.busy": "2023-08-13T10:07:02.022434Z",
     "iopub.status.idle": "2023-08-13T10:07:02.231995Z",
     "shell.execute_reply": "2023-08-13T10:07:02.230929Z"
    }
   },
   "outputs": [
    {
     "data": {
      "text/html": [
       "<div>\n",
       "<style scoped>\n",
       "    .dataframe tbody tr th:only-of-type {\n",
       "        vertical-align: middle;\n",
       "    }\n",
       "\n",
       "    .dataframe tbody tr th {\n",
       "        vertical-align: top;\n",
       "    }\n",
       "\n",
       "    .dataframe thead th {\n",
       "        text-align: right;\n",
       "    }\n",
       "</style>\n",
       "<table border=\"1\" class=\"dataframe\">\n",
       "  <thead>\n",
       "    <tr style=\"text-align: right;\">\n",
       "      <th></th>\n",
       "      <th>CVE</th>\n",
       "      <th>CVSS Score</th>\n",
       "      <th>EPSS</th>\n",
       "      <th>Description</th>\n",
       "      <th>Published</th>\n",
       "    </tr>\n",
       "  </thead>\n",
       "  <tbody>\n",
       "    <tr>\n",
       "      <th>0</th>\n",
       "      <td>CVE-2018-4939</td>\n",
       "      <td>9.8</td>\n",
       "      <td>0.97236</td>\n",
       "      <td>Adobe ColdFusion Update 5 and earlier versions...</td>\n",
       "      <td>2018-05-19 17:29:01.480</td>\n",
       "    </tr>\n",
       "    <tr>\n",
       "      <th>1</th>\n",
       "      <td>CVE-2018-15961</td>\n",
       "      <td>0.0</td>\n",
       "      <td>0.97474</td>\n",
       "      <td>Adobe ColdFusion versions July 12 release (201...</td>\n",
       "      <td>2018-09-25 13:29:01.567</td>\n",
       "    </tr>\n",
       "    <tr>\n",
       "      <th>2</th>\n",
       "      <td>CVE-2018-4878</td>\n",
       "      <td>9.8</td>\n",
       "      <td>0.97420</td>\n",
       "      <td>A use-after-free vulnerability was discovered ...</td>\n",
       "      <td>2018-02-06 21:29:00.347</td>\n",
       "    </tr>\n",
       "    <tr>\n",
       "      <th>3</th>\n",
       "      <td>CVE-2017-9805</td>\n",
       "      <td>0.0</td>\n",
       "      <td>0.97547</td>\n",
       "      <td>The REST Plugin in Apache Struts 2.1.1 through...</td>\n",
       "      <td>2017-09-15 19:29:00.237</td>\n",
       "    </tr>\n",
       "    <tr>\n",
       "      <th>4</th>\n",
       "      <td>CVE-2021-42013</td>\n",
       "      <td>9.8</td>\n",
       "      <td>0.97515</td>\n",
       "      <td>It was found that the fix for CVE-2021-41773 i...</td>\n",
       "      <td>2021-10-07 16:15:09.270</td>\n",
       "    </tr>\n",
       "    <tr>\n",
       "      <th>...</th>\n",
       "      <td>...</td>\n",
       "      <td>...</td>\n",
       "      <td>...</td>\n",
       "      <td>...</td>\n",
       "      <td>...</td>\n",
       "    </tr>\n",
       "    <tr>\n",
       "      <th>3443</th>\n",
       "      <td>CVE-2022-34753</td>\n",
       "      <td>8.8</td>\n",
       "      <td>0.97005</td>\n",
       "      <td>A CWE-78: Improper Neutralization of Special E...</td>\n",
       "      <td>2022-07-13 21:15:08.163</td>\n",
       "    </tr>\n",
       "    <tr>\n",
       "      <th>3444</th>\n",
       "      <td>CVE-2022-35871</td>\n",
       "      <td>7.8</td>\n",
       "      <td>0.96201</td>\n",
       "      <td>This vulnerability allows remote attackers to ...</td>\n",
       "      <td>2022-07-25 19:15:45.637</td>\n",
       "    </tr>\n",
       "    <tr>\n",
       "      <th>3445</th>\n",
       "      <td>CVE-2022-40881</td>\n",
       "      <td>9.8</td>\n",
       "      <td>0.94859</td>\n",
       "      <td>SolarView Compact 6.00 was discovered to conta...</td>\n",
       "      <td>2022-11-17 04:15:10.857</td>\n",
       "    </tr>\n",
       "    <tr>\n",
       "      <th>3446</th>\n",
       "      <td>CVE-2022-42233</td>\n",
       "      <td>9.8</td>\n",
       "      <td>0.90170</td>\n",
       "      <td>Tenda 11N with firmware version V5.07.33_cn su...</td>\n",
       "      <td>2022-10-20 17:15:10.617</td>\n",
       "    </tr>\n",
       "    <tr>\n",
       "      <th>3447</th>\n",
       "      <td>CVE-2022-4328</td>\n",
       "      <td>9.8</td>\n",
       "      <td>0.96022</td>\n",
       "      <td>The WooCommerce Checkout Field Manager WordPre...</td>\n",
       "      <td>2023-03-06 14:15:09.723</td>\n",
       "    </tr>\n",
       "  </tbody>\n",
       "</table>\n",
       "<p>3448 rows × 5 columns</p>\n",
       "</div>"
      ],
      "text/plain": [
       "                 CVE CVSS Score     EPSS  \\\n",
       "0      CVE-2018-4939        9.8  0.97236   \n",
       "1     CVE-2018-15961        0.0  0.97474   \n",
       "2      CVE-2018-4878        9.8  0.97420   \n",
       "3      CVE-2017-9805        0.0  0.97547   \n",
       "4     CVE-2021-42013        9.8  0.97515   \n",
       "...              ...        ...      ...   \n",
       "3443  CVE-2022-34753        8.8  0.97005   \n",
       "3444  CVE-2022-35871        7.8  0.96201   \n",
       "3445  CVE-2022-40881        9.8  0.94859   \n",
       "3446  CVE-2022-42233        9.8  0.90170   \n",
       "3447   CVE-2022-4328        9.8  0.96022   \n",
       "\n",
       "                                            Description  \\\n",
       "0     Adobe ColdFusion Update 5 and earlier versions...   \n",
       "1     Adobe ColdFusion versions July 12 release (201...   \n",
       "2     A use-after-free vulnerability was discovered ...   \n",
       "3     The REST Plugin in Apache Struts 2.1.1 through...   \n",
       "4     It was found that the fix for CVE-2021-41773 i...   \n",
       "...                                                 ...   \n",
       "3443  A CWE-78: Improper Neutralization of Special E...   \n",
       "3444  This vulnerability allows remote attackers to ...   \n",
       "3445  SolarView Compact 6.00 was discovered to conta...   \n",
       "3446  Tenda 11N with firmware version V5.07.33_cn su...   \n",
       "3447  The WooCommerce Checkout Field Manager WordPre...   \n",
       "\n",
       "                   Published  \n",
       "0    2018-05-19 17:29:01.480  \n",
       "1    2018-09-25 13:29:01.567  \n",
       "2    2018-02-06 21:29:00.347  \n",
       "3    2017-09-15 19:29:00.237  \n",
       "4    2021-10-07 16:15:09.270  \n",
       "...                      ...  \n",
       "3443 2022-07-13 21:15:08.163  \n",
       "3444 2022-07-25 19:15:45.637  \n",
       "3445 2022-11-17 04:15:10.857  \n",
       "3446 2022-10-20 17:15:10.617  \n",
       "3447 2023-03-06 14:15:09.723  \n",
       "\n",
       "[3448 rows x 5 columns]"
      ]
     },
     "execution_count": 8,
     "metadata": {},
     "output_type": "execute_result"
    }
   ],
   "source": [
    "patchthisapp_df = pd.merge(CVE_list, nvd, how='inner', left_on='CVE', right_on='CVE')\n",
    "patchthisapp_df = pd.merge(patchthisapp_df, epss_df, how='inner', left_on='CVE', right_on='CVE')\n",
    "patchthisapp_df = patchthisapp_df[['CVE', 'CVSS Score', 'epss', 'Description', 'Published']]\n",
    "patchthisapp_df = patchthisapp_df.rename(columns={\"epss\": \"EPSS\"})\n",
    "patchthisapp_df.to_csv('data/data.csv', index=False)\n",
    "patchthisapp_df\n"
   ]
  }
 ],
 "metadata": {
  "kernelspec": {
   "display_name": "Python 3",
   "language": "python",
   "name": "python3"
  },
  "language_info": {
   "codemirror_mode": {
    "name": "ipython",
    "version": 3
   },
   "file_extension": ".py",
   "mimetype": "text/x-python",
   "name": "python",
   "nbconvert_exporter": "python",
   "pygments_lexer": "ipython3",
   "version": "3.11.4"
  }
 },
 "nbformat": 4,
 "nbformat_minor": 2
}
